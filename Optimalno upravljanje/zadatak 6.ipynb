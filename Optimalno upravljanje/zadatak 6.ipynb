{
 "cells": [
  {
   "metadata": {},
   "cell_type": "markdown",
   "source": "# Optimalno upravljanje - Zadatak 6 - nalazenje optimalne strategije upravljanja, bez ogranicenja na upravljanje",
   "id": "5d785ebaf5f268fa"
  },
  {
   "metadata": {},
   "cell_type": "markdown",
   "source": "## Biblioteke",
   "id": "11a59bd9c05d9820"
  },
  {
   "cell_type": "code",
   "id": "initial_id",
   "metadata": {
    "collapsed": true,
    "ExecuteTime": {
     "end_time": "2025-08-07T16:25:31.554305Z",
     "start_time": "2025-08-07T16:25:31.542265Z"
    }
   },
   "source": [
    "import numpy as np\n",
    "import matplotlib.pyplot as plt\n",
    "import warnings\n",
    "warnings.filterwarnings('ignore')"
   ],
   "outputs": [],
   "execution_count": 27
  },
  {
   "metadata": {},
   "cell_type": "markdown",
   "source": "## Pocetni uslovi, promenjive",
   "id": "fe4e023c7f477c54"
  },
  {
   "metadata": {
    "ExecuteTime": {
     "end_time": "2025-08-07T16:25:31.593665Z",
     "start_time": "2025-08-07T16:25:31.579019Z"
    }
   },
   "cell_type": "code",
   "source": [
    "T_sample = 0.001\n",
    "t_start = 0\n",
    "t_stop = 1\n",
    "t = np.arange(t_start, t_stop, T_sample)\n",
    "N = len(t)"
   ],
   "id": "62616663112e8eae",
   "outputs": [],
   "execution_count": 28
  },
  {
   "metadata": {},
   "cell_type": "markdown",
   "source": "Pocetni uslovi:",
   "id": "bdb6fc5229c888a8"
  },
  {
   "metadata": {
    "ExecuteTime": {
     "end_time": "2025-08-07T16:25:31.628052Z",
     "start_time": "2025-08-07T16:25:31.620142Z"
    }
   },
   "cell_type": "code",
   "source": [
    "x1_0 = 1\n",
    "x2_0 = 1\n",
    "\n",
    "x = np.zeros((N,2))\n",
    "x[0,0] = x1_0\n",
    "x[0,1] = x2_0\n",
    "\n",
    "p = np.zeros ((N,2))\n",
    "u = np.ones((N,1)) # inicijalno pretpostavljeno upravljanje"
   ],
   "id": "1b23ab7b10ff2020",
   "outputs": [],
   "execution_count": 29
  },
  {
   "metadata": {},
   "cell_type": "markdown",
   "source": "Izvodi promenjivih stanja i generalisanih impulsa:",
   "id": "128ac74ef7a915b8"
  },
  {
   "metadata": {
    "ExecuteTime": {
     "end_time": "2025-08-07T16:25:31.675104Z",
     "start_time": "2025-08-07T16:25:31.660739Z"
    }
   },
   "cell_type": "code",
   "source": [
    "def x1_dot(x, u):\n",
    "    return x[1]\n",
    "\n",
    "def x2_dot(x, u):\n",
    "    return x[0] + u\n",
    "\n",
    "def p1_dot(x, p, u):\n",
    "    return -p[1]\n",
    "\n",
    "def p2_dot(x, p, u):\n",
    "    return -p[0]"
   ],
   "id": "415ecdf93dd059b8",
   "outputs": [],
   "execution_count": 30
  },
  {
   "metadata": {},
   "cell_type": "markdown",
   "source": "## Simulacija",
   "id": "1a5038802f5038cf"
  },
  {
   "metadata": {
    "ExecuteTime": {
     "end_time": "2025-08-07T16:25:35.655438Z",
     "start_time": "2025-08-07T16:25:31.677132Z"
    }
   },
   "cell_type": "code",
   "source": [
    "eps = 0.00001\n",
    "iter = 0\n",
    "w = 0.9\n",
    "\n",
    "while iter < 1000:\n",
    "    iter = iter + 1\n",
    "    if iter % 5 == 0:\n",
    "        print(f'Iteration number: {iter}')\n",
    "    u_old = u.copy()\n",
    "    \n",
    "    # Ojler 1 za diskretizovanje promenjivih stanja:\n",
    "    for k in range(N-1):\n",
    "        x[k+1, 0] = x[k, 0] + T_sample * (x1_dot(x[k], u[k]))\n",
    "        x[k+1, 1] = x[k, 1] + T_sample  * (x2_dot(x[k], u[k]))\n",
    "        \n",
    "    # Ojler 2 za intergraciju unazad generalisanih impulsa\n",
    "    for k in range(N-1):\n",
    "        p[N - 2 - k, 0] = p[N - 1 - k, 0] - T_sample * p1_dot(x[N - 1 - k], p[N - 1 - k], u[N - 1 - k])\n",
    "        p[N - 2 - k, 1] = p[N - 1 - k, 1] - T_sample * p2_dot(x[N - 1 - k], p[N - 1 - k], u[N - 1 - k])\n",
    "    \n",
    "    # NF filtar sa w decay radi brze konvergencije\n",
    "    for k in range(N):\n",
    "        u_new = -p[k, 1] / 2\n",
    "        u[k] = pow(w, iter) * u[k] + (1 - pow(w, iter)) * u_new\n",
    "    \n",
    "    # Uslov konvergencije\n",
    "    if sum(np.abs(u - u_old)) <= eps * sum(np.abs(u)):\n",
    "        break"
   ],
   "id": "def72d7e3f9fd8a0",
   "outputs": [
    {
     "name": "stdout",
     "output_type": "stream",
     "text": [
      "Iteration number: 5\n",
      "Iteration number: 10\n",
      "Iteration number: 15\n",
      "Iteration number: 20\n",
      "Iteration number: 25\n",
      "Iteration number: 30\n",
      "Iteration number: 35\n",
      "Iteration number: 40\n",
      "Iteration number: 45\n",
      "Iteration number: 50\n",
      "Iteration number: 55\n",
      "Iteration number: 60\n",
      "Iteration number: 65\n",
      "Iteration number: 70\n",
      "Iteration number: 75\n",
      "Iteration number: 80\n",
      "Iteration number: 85\n",
      "Iteration number: 90\n",
      "Iteration number: 95\n",
      "Iteration number: 100\n",
      "Iteration number: 105\n",
      "Iteration number: 110\n",
      "Iteration number: 115\n",
      "Iteration number: 120\n"
     ]
    }
   ],
   "execution_count": 31
  },
  {
   "metadata": {},
   "cell_type": "markdown",
   "source": "## Promenjive stanja",
   "id": "e748ce94d4cf189f"
  },
  {
   "metadata": {
    "ExecuteTime": {
     "end_time": "2025-08-07T16:25:35.927100Z",
     "start_time": "2025-08-07T16:25:35.655438Z"
    }
   },
   "cell_type": "code",
   "source": [
    "plt.plot(t, x)\n",
    "plt.grid()\n",
    "plt.legend('x_1','x_2')\n",
    "plt.xlabel('t')"
   ],
   "id": "a4a22816f29815ce",
   "outputs": [
    {
     "data": {
      "text/plain": [
       "Text(0.5, 0, 't')"
      ]
     },
     "execution_count": 32,
     "metadata": {},
     "output_type": "execute_result"
    },
    {
     "data": {
      "text/plain": [
       "<Figure size 640x480 with 1 Axes>"
      ],
      "image/png": "[encoded data removed]"
     },
     "metadata": {},
     "output_type": "display_data"
    }
   ],
   "execution_count": 32
  },
  {
   "metadata": {},
   "cell_type": "markdown",
   "source": "## Upravljanje",
   "id": "504989445bdd5884"
  },
  {
   "metadata": {
    "ExecuteTime": {
     "end_time": "2025-08-07T16:25:36.223650Z",
     "start_time": "2025-08-07T16:25:35.928865Z"
    }
   },
   "cell_type": "code",
   "source": [
    "plt.plot(t, u)\n",
    "plt.grid()\n",
    "plt.legend('u')\n",
    "plt.xlabel('t')"
   ],
   "id": "2ce1be5f519c0db7",
   "outputs": [
    {
     "data": {
      "text/plain": [
       "Text(0.5, 0, 't')"
      ]
     },
     "execution_count": 33,
     "metadata": {},
     "output_type": "execute_result"
    },
    {
     "data": {
      "text/plain": [
       "<Figure size 640x480 with 1 Axes>"
      ],
      "image/png": "[encoded data removed]"
     },
     "metadata": {},
     "output_type": "display_data"
    }
   ],
   "execution_count": 33
  },
  {
   "metadata": {},
   "cell_type": "markdown",
   "source": "## Generalisani impulsi",
   "id": "339ae2cbc82cd163"
  },
  {
   "metadata": {
    "ExecuteTime": {
     "end_time": "2025-08-07T16:25:36.485072Z",
     "start_time": "2025-08-07T16:25:36.223650Z"
    }
   },
   "cell_type": "code",
   "source": [
    "plt.plot(t, p)\n",
    "plt.grid()\n",
    "plt.legend('p_1', 'p_2')\n",
    "plt.xlabel('t')"
   ],
   "id": "3f8cac14b1696b57",
   "outputs": [
    {
     "data": {
      "text/plain": [
       "Text(0.5, 0, 't')"
      ]
     },
     "execution_count": 34,
     "metadata": {},
     "output_type": "execute_result"
    },
    {
     "data": {
      "text/plain": [
       "<Figure size 640x480 with 1 Axes>"
      ],
      "image/png": "[encoded data removed]"
     },
     "metadata": {},
     "output_type": "display_data"
    }
   ],
   "execution_count": 34
  }
 ],
 "metadata": {
  "kernelspec": {
   "display_name": "Python 3",
   "language": "python",
   "name": "python3"
  },
  "language_info": {
   "codemirror_mode": {
    "name": "ipython",
    "version": 2
   },
   "file_extension": ".py",
   "mimetype": "text/x-python",
   "name": "python",
   "nbconvert_exporter": "python",
   "pygments_lexer": "ipython2",
   "version": "2.7.6"
  }
 },
 "nbformat": 4,
 "nbformat_minor": 5
}
