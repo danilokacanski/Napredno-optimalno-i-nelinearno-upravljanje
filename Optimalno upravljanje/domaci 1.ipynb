{
 "cells": [
  {
   "cell_type": "markdown",
   "metadata": {},
   "source": "# Optimalno upravljanje - Domaci 1 - Optimalno upravljanje modelom akutne mijeloidne leukemije"
  },
  {
   "metadata": {},
   "cell_type": "markdown",
   "source": "## Biblioteke"
  },
  {
   "cell_type": "code",
   "metadata": {
    "ExecuteTime": {
     "end_time": "2025-08-07T18:00:29.285765Z",
     "start_time": "2025-08-07T18:00:29.282385Z"
    }
   },
   "source": [
    "import numpy as np\n",
    "import matplotlib.pyplot as plt\n",
    "import warnings\n",
    "warnings.filterwarnings(\"ignore\")"
   ],
   "outputs": [],
   "execution_count": 13
  },
  {
   "metadata": {},
   "cell_type": "markdown",
   "source": "## Definisanje parametara"
  },
  {
   "cell_type": "code",
   "metadata": {
    "ExecuteTime": {
     "end_time": "2025-08-07T18:00:29.300252Z",
     "start_time": "2025-08-07T18:00:29.297607Z"
    }
   },
   "source": [
    "rho_s = 0.5\n",
    "rho_a = 0.43\n",
    "rho_l = 0.27\n",
    "\n",
    "delta_s = 0.5\n",
    "delta_a = 0.44\n",
    "delta_l = 0.275\n",
    "\n",
    "mi_d = 0.275\n",
    "mi_t = 0.3\n",
    "\n",
    "K1 = 1\n",
    "K2 = 1\n",
    "\n",
    "alpha = 0.015\n",
    "gamma = 0.01\n",
    "\n",
    "t_start = 0\n",
    "t_stop = 50\n",
    "T_sample = 0.001\n",
    "\n",
    "a1 = 1\n",
    "a2 = 1\n",
    "w = 0.9"
   ],
   "outputs": [],
   "execution_count": 14
  },
  {
   "metadata": {},
   "cell_type": "markdown",
   "source": "## Pocetni uslovi"
  },
  {
   "cell_type": "code",
   "metadata": {
    "ExecuteTime": {
     "end_time": "2025-08-07T18:00:29.312415Z",
     "start_time": "2025-08-07T18:00:29.310694Z"
    }
   },
   "source": [
    "S0 = 0.72\n",
    "A0 = 0.3255\n",
    "D0 = 0.5207\n",
    "L0 = 0.3715\n",
    "T0 = 0.0619"
   ],
   "outputs": [],
   "execution_count": 15
  },
  {
   "cell_type": "code",
   "metadata": {
    "ExecuteTime": {
     "end_time": "2025-08-07T18:00:29.325964Z",
     "start_time": "2025-08-07T18:00:29.322707Z"
    }
   },
   "source": [
    "t = np.arange(t_start, t_stop, T_sample)\n",
    "N = len(t)\n",
    "\n",
    "x = np.zeros((N, 5))\n",
    "x[0, 0] = S0\n",
    "x[0, 1] = A0\n",
    "x[0, 2] = D0\n",
    "x[0, 3] = L0\n",
    "x[0, 4] = T0\n",
    "\n",
    "u = np.zeros((N, 1))\n",
    "p = np.zeros((N, 5))"
   ],
   "outputs": [],
   "execution_count": 16
  },
  {
   "metadata": {},
   "cell_type": "markdown",
   "source": "## Promenjive stanja i generalisani impulsi:"
  },
  {
   "cell_type": "code",
   "metadata": {
    "ExecuteTime": {
     "end_time": "2025-08-07T18:00:29.335603Z",
     "start_time": "2025-08-07T18:00:29.333377Z"
    }
   },
   "source": [
    "def x1_dot(x, u):\n",
    "    return rho_s * x[0] * (K1 - x[0]) - delta_s * x[0]\n",
    "\n",
    "def x2_dot(x, u):\n",
    "    return rho_s * x[0] + rho_a * x[1] * (K2 - x[1] - x[3]) - delta_a * x[1]\n",
    "\n",
    "def x3_dot(x, u):\n",
    "    return delta_a * x[1] - mi_d * x[2]\n",
    "\n",
    "def x4_dot(x, u):\n",
    "    return rho_l * x[3] * (K2 - x[1] - x[3]) - delta_l * x[3] - alpha * x[3] / (gamma + x[3]) - u * x[3]\n",
    "\n",
    "def x5_dot(x, u):\n",
    "    return delta_l * x[3] - mi_t * x[4]"
   ],
   "outputs": [],
   "execution_count": 17
  },
  {
   "cell_type": "code",
   "metadata": {
    "ExecuteTime": {
     "end_time": "2025-08-07T18:00:29.346455Z",
     "start_time": "2025-08-07T18:00:29.343995Z"
    }
   },
   "source": [
    "def p1_dot(x, p, u):\n",
    "    return -(rho_s * K1 - 2 * rho_s * x[0] - delta_s) * p[0] - rho_s * p[1]\n",
    "\n",
    "def p2_dot(x, p, u):\n",
    "    return -(rho_a * K2 - 2 * rho_a * x[1] - rho_a * x[3] - delta_a) * p[1] - delta_a * p[2] + rho_l * p[3] * x[3]\n",
    "\n",
    "def p3_dot(x, p, u):\n",
    "    return mi_d * p[2]\n",
    "\n",
    "def p4_dot(x, p, u):\n",
    "    return -a2 + rho_a * p[1] * x[1] - ( rho_l * K2 - rho_l * x[1] - 2 * rho_l * x[3] - delta_l - alpha * gamma / pow((gamma + x[3]), 2) - u) * p[3] - delta_l * p[4]\n",
    "\n",
    "def p5_dot(x, p, u):\n",
    "    return mi_t * p[4]"
   ],
   "outputs": [],
   "execution_count": 18
  },
  {
   "cell_type": "code",
   "metadata": {
    "ExecuteTime": {
     "end_time": "2025-08-07T18:03:29.737896Z",
     "start_time": "2025-08-07T18:00:29.353438Z"
    }
   },
   "source": [
    "eps = 1e-3\n",
    "iter = 0\n",
    "\n",
    "while iter <= 150:\n",
    "    iter += 1\n",
    "    print(f'Iteration number: {iter}')\n",
    "    u_old = u.copy()\n",
    "\n",
    "    # Tustin za promenjive stanja, x[i+1] je nepoznato zato nam treba xp-ovi:\n",
    "    for i in range(N - 1):\n",
    "        xp_1 = x[i, 0] + T_sample * x1_dot(x[i], u[i])\n",
    "        xp_2 = x[i, 1] + T_sample * x2_dot(x[i], u[i])\n",
    "        xp_3 = x[i, 2] + T_sample * x3_dot(x[i], u[i])\n",
    "        xp_4 = x[i, 3] + T_sample * x4_dot(x[i], u[i])\n",
    "        xp_5 = x[i, 4] + T_sample * x5_dot(x[i], u[i])\n",
    "        xp = [xp_1, xp_2, xp_3, xp_4, xp_5]\n",
    "\n",
    "        x[i + 1, 0] = x[i, 0] + T_sample / 2 * (x1_dot(x[i], u[i]) + x1_dot(xp, u[i + 1]))\n",
    "        x[i + 1, 1] = x[i, 1] + T_sample / 2 * (x2_dot(x[i], u[i]) + x2_dot(xp, u[i + 1]))\n",
    "        x[i + 1, 2] = x[i, 2] + T_sample / 2 * (x3_dot(x[i], u[i]) + x3_dot(xp, u[i + 1]))\n",
    "        x[i + 1, 3] = x[i, 3] + T_sample / 2 * (x4_dot(x[i], u[i]) + x4_dot(xp, u[i + 1]))\n",
    "        x[i + 1, 4] = x[i, 4] + T_sample / 2 * (x5_dot(x[i], u[i]) + x5_dot(xp, u[i + 1]))\n",
    "\n",
    "    # Integracija unazad za generalisane impulse, Ojler 2:\n",
    "    for i in range(N - 1):\n",
    "        p[N - 2 - i, 0] = p[N - 1 - i, 0] - T_sample * p1_dot(x[N - 1 - i], p[N - 1 - i], u[N - 1 - i])\n",
    "        p[N - 2 - i, 1] = p[N - 1 - i, 1] - T_sample * p2_dot(x[N - 1 - i], p[N - 1 - i], u[N - 1 - i])\n",
    "        p[N - 2 - i, 2] = p[N - 1 - i, 2] - T_sample * p3_dot(x[N - 1 - i], p[N - 1 - i], u[N - 1 - i])\n",
    "        p[N - 2 - i, 3] = p[N - 1 - i, 3] - T_sample * p4_dot(x[N - 1 - i], p[N - 1 - i], u[N - 1 - i])\n",
    "        p[N - 2 - i, 4] = p[N - 1 - i, 4] - T_sample * p5_dot(x[N - 1 - i], p[N - 1 - i], u[N - 1 - i])\n",
    "\n",
    "    # Azuriranje upravljanja\n",
    "    for i in range(N):\n",
    "        if a1 - p[i, 3] * x[i, 3] > 0:\n",
    "            u_new = 0\n",
    "        else:\n",
    "            u_new = 1\n",
    "        u[i] = pow(w,iter) * u[i] + (1 - pow(w,iter)) * u_new\n",
    "\n",
    "    if sum(np.abs(u - u_old)) <= eps * sum(np.abs(u)):\n",
    "        break"
   ],
   "outputs": [
    {
     "name": "stdout",
     "output_type": "stream",
     "text": [
      "Iteration number: 1\n",
      "Iteration number: 2\n",
      "Iteration number: 3\n",
      "Iteration number: 4\n",
      "Iteration number: 5\n",
      "Iteration number: 6\n",
      "Iteration number: 7\n",
      "Iteration number: 8\n",
      "Iteration number: 9\n",
      "Iteration number: 10\n",
      "Iteration number: 11\n",
      "Iteration number: 12\n",
      "Iteration number: 13\n",
      "Iteration number: 14\n",
      "Iteration number: 15\n",
      "Iteration number: 16\n",
      "Iteration number: 17\n",
      "Iteration number: 18\n",
      "Iteration number: 19\n",
      "Iteration number: 20\n",
      "Iteration number: 21\n",
      "Iteration number: 22\n",
      "Iteration number: 23\n",
      "Iteration number: 24\n",
      "Iteration number: 25\n",
      "Iteration number: 26\n",
      "Iteration number: 27\n",
      "Iteration number: 28\n",
      "Iteration number: 29\n",
      "Iteration number: 30\n",
      "Iteration number: 31\n",
      "Iteration number: 32\n",
      "Iteration number: 33\n",
      "Iteration number: 34\n",
      "Iteration number: 35\n",
      "Iteration number: 36\n",
      "Iteration number: 37\n",
      "Iteration number: 38\n",
      "Iteration number: 39\n",
      "Iteration number: 40\n",
      "Iteration number: 41\n",
      "Iteration number: 42\n",
      "Iteration number: 43\n",
      "Iteration number: 44\n",
      "Iteration number: 45\n",
      "Iteration number: 46\n",
      "Iteration number: 47\n",
      "Iteration number: 48\n",
      "Iteration number: 49\n",
      "Iteration number: 50\n",
      "Iteration number: 51\n",
      "Iteration number: 52\n",
      "Iteration number: 53\n",
      "Iteration number: 54\n",
      "Iteration number: 55\n",
      "Iteration number: 56\n",
      "Iteration number: 57\n",
      "Iteration number: 58\n",
      "Iteration number: 59\n",
      "Iteration number: 60\n",
      "Iteration number: 61\n",
      "Iteration number: 62\n",
      "Iteration number: 63\n",
      "Iteration number: 64\n",
      "Iteration number: 65\n",
      "Iteration number: 66\n",
      "Iteration number: 67\n",
      "Iteration number: 68\n",
      "Iteration number: 69\n",
      "Iteration number: 70\n",
      "Iteration number: 71\n",
      "Iteration number: 72\n",
      "Iteration number: 73\n",
      "Iteration number: 74\n",
      "Iteration number: 75\n",
      "Iteration number: 76\n",
      "Iteration number: 77\n",
      "Iteration number: 78\n",
      "Iteration number: 79\n",
      "Iteration number: 80\n",
      "Iteration number: 81\n",
      "Iteration number: 82\n",
      "Iteration number: 83\n",
      "Iteration number: 84\n",
      "Iteration number: 85\n",
      "Iteration number: 86\n",
      "Iteration number: 87\n",
      "Iteration number: 88\n",
      "Iteration number: 89\n",
      "Iteration number: 90\n",
      "Iteration number: 91\n",
      "Iteration number: 92\n",
      "Iteration number: 93\n",
      "Iteration number: 94\n",
      "Iteration number: 95\n",
      "Iteration number: 96\n",
      "Iteration number: 97\n",
      "Iteration number: 98\n",
      "Iteration number: 99\n",
      "Iteration number: 100\n",
      "Iteration number: 101\n",
      "Iteration number: 102\n",
      "Iteration number: 103\n",
      "Iteration number: 104\n",
      "Iteration number: 105\n",
      "Iteration number: 106\n",
      "Iteration number: 107\n",
      "Iteration number: 108\n",
      "Iteration number: 109\n",
      "Iteration number: 110\n",
      "Iteration number: 111\n",
      "Iteration number: 112\n",
      "Iteration number: 113\n",
      "Iteration number: 114\n",
      "Iteration number: 115\n",
      "Iteration number: 116\n",
      "Iteration number: 117\n",
      "Iteration number: 118\n",
      "Iteration number: 119\n",
      "Iteration number: 120\n",
      "Iteration number: 121\n",
      "Iteration number: 122\n",
      "Iteration number: 123\n",
      "Iteration number: 124\n",
      "Iteration number: 125\n",
      "Iteration number: 126\n",
      "Iteration number: 127\n",
      "Iteration number: 128\n",
      "Iteration number: 129\n",
      "Iteration number: 130\n",
      "Iteration number: 131\n",
      "Iteration number: 132\n",
      "Iteration number: 133\n",
      "Iteration number: 134\n",
      "Iteration number: 135\n",
      "Iteration number: 136\n",
      "Iteration number: 137\n",
      "Iteration number: 138\n",
      "Iteration number: 139\n",
      "Iteration number: 140\n",
      "Iteration number: 141\n",
      "Iteration number: 142\n",
      "Iteration number: 143\n",
      "Iteration number: 144\n",
      "Iteration number: 145\n",
      "Iteration number: 146\n",
      "Iteration number: 147\n",
      "Iteration number: 148\n",
      "Iteration number: 149\n",
      "Iteration number: 150\n",
      "Iteration number: 151\n"
     ]
    }
   ],
   "execution_count": 19
  },
  {
   "cell_type": "code",
   "metadata": {
    "ExecuteTime": {
     "end_time": "2025-08-07T18:05:32.890561Z",
     "start_time": "2025-08-07T18:05:32.793352Z"
    }
   },
   "source": [
    "plt.plot(t, x)\n",
    "plt.grid()\n",
    "plt.legend(['S(t)', 'A(t)', 'D(t)', 'L(t)', 'T(t)'])\n",
    "plt.xlabel('t')"
   ],
   "outputs": [
    {
     "data": {
      "text/plain": [
       "Text(0.5, 0, 't')"
      ]
     },
     "execution_count": 21,
     "metadata": {},
     "output_type": "execute_result"
    },
    {
     "data": {
      "text/plain": [
       "<Figure size 640x480 with 1 Axes>"
      ],
      "image/png": "[encoded data removed]"
     },
     "metadata": {},
     "output_type": "display_data"
    }
   ],
   "execution_count": 21
  },
  {
   "cell_type": "code",
   "metadata": {
    "ExecuteTime": {
     "end_time": "2025-08-07T18:03:30.026483Z",
     "start_time": "2025-08-07T17:47:49.660124Z"
    }
   },
   "source": [
    "plt.plot(t, u)\n",
    "plt.grid()\n",
    "plt.legend('u(t)')\n",
    "plt.xlabel('t')"
   ],
   "outputs": [
    {
     "data": {
      "text/plain": [
       "<Figure size 640x480 with 1 Axes>"
      ],
      "image/png": "[encoded data removed]"
     },
     "metadata": {},
     "output_type": "display_data"
    }
   ],
   "execution_count": 10
  }
 ],
 "metadata": {
  "kernelspec": {
   "display_name": "Python 3",
   "language": "python",
   "name": "python3"
  },
  "language_info": {
   "codemirror_mode": {
    "name": "ipython",
    "version": 3
   },
   "file_extension": ".py",
   "mimetype": "text/x-python",
   "name": "python",
   "nbconvert_exporter": "python",
   "pygments_lexer": "ipython3",
   "version": "3.12.8"
  }
 },
 "nbformat": 4,
 "nbformat_minor": 2
}
